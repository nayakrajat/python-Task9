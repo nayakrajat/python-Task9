{
 "cells": [
  {
   "cell_type": "code",
   "execution_count": null,
   "metadata": {},
   "outputs": [],
   "source": [
    "#Task9\n",
    "#1 Ask 2 numbers from users and store it in num1 and num2\n",
    "#2 Ask user to press 1 for addition,2 for subtraction,3 for multiplication and 4 for division\n",
    "#3 Based on number given by user do the math operatio"
   ]
  },
  {
   "cell_type": "code",
   "execution_count": 12,
   "metadata": {},
   "outputs": [
    {
     "name": "stdout",
     "output_type": "stream",
     "text": [
      "Enter the first number10\n",
      "Enter the second number5\n",
      "Press 1 for sum, 2 for substraction, 3 for multiplication, 4 for division2\n",
      "Substraction of num 10 and num 5 is 5\n"
     ]
    }
   ],
   "source": [
    "num1=input(\"Enter the first number\")\n",
    "num1=int(num1)\n",
    "num2=input(\"Enter the second number\")\n",
    "num2=int(num2)\n",
    "oper=input(\"Press 1 for sum, 2 for substraction, 3 for multiplication, 4 for division\")\n",
    "oper=int(oper)\n",
    "if(oper==1):\n",
    "    print(\"sum of num {} and num {} is {}\".format(num1,num2,num1+num2))\n",
    "    \n",
    "elif(oper==2):\n",
    "    print(\"Substraction of num {} and num {} is {}\".format(num1,num2,num1-num2))\n",
    "elif(oper==3):\n",
    "    print(\"Substraction of num {} and num {} is {}\".format(num1,num2,num1*num2))\n",
    "elif(oper==4):\n",
    "    print(\"Substraction of num {} and num {} is {}\".format(num1,num2,num1/num2))\n",
    "else:\n",
    "    print(\"Enter the valid input\")"
   ]
  }
 ],
 "metadata": {
  "kernelspec": {
   "display_name": "Python 3",
   "language": "python",
   "name": "python3"
  },
  "language_info": {
   "codemirror_mode": {
    "name": "ipython",
    "version": 3
   },
   "file_extension": ".py",
   "mimetype": "text/x-python",
   "name": "python",
   "nbconvert_exporter": "python",
   "pygments_lexer": "ipython3",
   "version": "3.8.3"
  }
 },
 "nbformat": 4,
 "nbformat_minor": 4
}
